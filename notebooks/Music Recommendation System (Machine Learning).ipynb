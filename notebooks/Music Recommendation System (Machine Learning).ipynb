{
 "cells": [
  {
   "cell_type": "markdown",
   "metadata": {},
   "source": [
    "## Music Recommendation System (Machine Learning)"
   ]
  },
  {
   "cell_type": "markdown",
   "metadata": {},
   "source": [
    "This project is aimed upon building a music recommendation system that gives the user recommendations on music based on his music taste by analysing his previously heard music and playlist. This project is done in two ways, using 'User - to - User Recommendation' and 'Item - to - Item Recommendation'. Birch, MiniBatchKMeans and KMeans algorithms are being used along with 'Surprise' module to compute the similarity between recommendations and user's already existing playlist for evaluation"
   ]
  },
  {
   "cell_type": "markdown",
   "metadata": {},
   "source": [
    "### Obtaining Data"
   ]
  },
  {
   "cell_type": "code",
   "execution_count": 1,
   "metadata": {},
   "outputs": [],
   "source": [
    "import pandas as pd\n",
    "import numpy as np"
   ]
  },
  {
   "cell_type": "code",
   "execution_count": 2,
   "metadata": {},
   "outputs": [],
   "source": [
    "final = pd.read_csv('datasets/final/final.csv')\n",
    "metadata = pd.read_csv('datasets/final/metadata.csv')"
   ]
  },
  {
   "cell_type": "markdown",
   "metadata": {},
   "source": [
    "### Model Selection - K Means Algorithm"
   ]
  },
  {
   "cell_type": "code",
   "execution_count": 3,
   "metadata": {},
   "outputs": [],
   "source": [
    "from sklearn.cluster import KMeans\n",
    "from sklearn.utils import shuffle"
   ]
  },
  {
   "cell_type": "code",
   "execution_count": 6,
   "metadata": {},
   "outputs": [
    {
     "data": {
      "text/plain": [
       "Index(['Unnamed: 0', 'track_id', 'acousticness', 'danceability', 'energy',\n",
       "       'instrumentalness', 'liveness', 'speechiness', 'tempo', 'valence',\n",
       "       ...\n",
       "       'Holiday', 'Salsa', 'NuJazz', 'HipHop Beats', 'Modern Jazz', 'Turkish',\n",
       "       'Tango', 'Fado', 'Christmas', 'Instrumental'],\n",
       "      dtype='object', length=930)"
      ]
     },
     "execution_count": 6,
     "metadata": {},
     "output_type": "execute_result"
    }
   ],
   "source": [
    "final.columns"
   ]
  },
  {
   "cell_type": "code",
   "execution_count": 6,
   "metadata": {},
   "outputs": [
    {
     "data": {
      "text/html": [
       "<div>\n",
       "<style scoped>\n",
       "    .dataframe tbody tr th:only-of-type {\n",
       "        vertical-align: middle;\n",
       "    }\n",
       "\n",
       "    .dataframe tbody tr th {\n",
       "        vertical-align: top;\n",
       "    }\n",
       "\n",
       "    .dataframe thead th {\n",
       "        text-align: right;\n",
       "    }\n",
       "</style>\n",
       "<table border=\"1\" class=\"dataframe\">\n",
       "  <thead>\n",
       "    <tr style=\"text-align: right;\">\n",
       "      <th></th>\n",
       "      <th>0</th>\n",
       "      <th>1</th>\n",
       "      <th>2</th>\n",
       "      <th>3</th>\n",
       "      <th>4</th>\n",
       "    </tr>\n",
       "  </thead>\n",
       "  <tbody>\n",
       "    <tr>\n",
       "      <th>Unnamed: 0</th>\n",
       "      <td>0.000000</td>\n",
       "      <td>1.000000</td>\n",
       "      <td>2.000000</td>\n",
       "      <td>3.000000</td>\n",
       "      <td>4.000000</td>\n",
       "    </tr>\n",
       "    <tr>\n",
       "      <th>track_id</th>\n",
       "      <td>2.000000</td>\n",
       "      <td>3.000000</td>\n",
       "      <td>5.000000</td>\n",
       "      <td>10.000000</td>\n",
       "      <td>134.000000</td>\n",
       "    </tr>\n",
       "    <tr>\n",
       "      <th>acousticness</th>\n",
       "      <td>0.416675</td>\n",
       "      <td>0.374408</td>\n",
       "      <td>0.043567</td>\n",
       "      <td>0.951670</td>\n",
       "      <td>0.452217</td>\n",
       "    </tr>\n",
       "    <tr>\n",
       "      <th>danceability</th>\n",
       "      <td>0.675894</td>\n",
       "      <td>0.528643</td>\n",
       "      <td>0.745566</td>\n",
       "      <td>0.658179</td>\n",
       "      <td>0.513238</td>\n",
       "    </tr>\n",
       "    <tr>\n",
       "      <th>energy</th>\n",
       "      <td>0.634476</td>\n",
       "      <td>0.817461</td>\n",
       "      <td>0.701470</td>\n",
       "      <td>0.924525</td>\n",
       "      <td>0.560410</td>\n",
       "    </tr>\n",
       "    <tr>\n",
       "      <th>...</th>\n",
       "      <td>...</td>\n",
       "      <td>...</td>\n",
       "      <td>...</td>\n",
       "      <td>...</td>\n",
       "      <td>...</td>\n",
       "    </tr>\n",
       "    <tr>\n",
       "      <th>Turkish</th>\n",
       "      <td>0.000000</td>\n",
       "      <td>0.000000</td>\n",
       "      <td>0.000000</td>\n",
       "      <td>0.000000</td>\n",
       "      <td>0.000000</td>\n",
       "    </tr>\n",
       "    <tr>\n",
       "      <th>Tango</th>\n",
       "      <td>0.000000</td>\n",
       "      <td>0.000000</td>\n",
       "      <td>0.000000</td>\n",
       "      <td>0.000000</td>\n",
       "      <td>0.000000</td>\n",
       "    </tr>\n",
       "    <tr>\n",
       "      <th>Fado</th>\n",
       "      <td>0.000000</td>\n",
       "      <td>0.000000</td>\n",
       "      <td>0.000000</td>\n",
       "      <td>0.000000</td>\n",
       "      <td>0.000000</td>\n",
       "    </tr>\n",
       "    <tr>\n",
       "      <th>Christmas</th>\n",
       "      <td>0.000000</td>\n",
       "      <td>0.000000</td>\n",
       "      <td>0.000000</td>\n",
       "      <td>0.000000</td>\n",
       "      <td>0.000000</td>\n",
       "    </tr>\n",
       "    <tr>\n",
       "      <th>Instrumental</th>\n",
       "      <td>0.000000</td>\n",
       "      <td>0.000000</td>\n",
       "      <td>0.000000</td>\n",
       "      <td>0.000000</td>\n",
       "      <td>0.000000</td>\n",
       "    </tr>\n",
       "  </tbody>\n",
       "</table>\n",
       "<p>930 rows × 5 columns</p>\n",
       "</div>"
      ],
      "text/plain": [
       "                     0         1         2          3           4\n",
       "Unnamed: 0    0.000000  1.000000  2.000000   3.000000    4.000000\n",
       "track_id      2.000000  3.000000  5.000000  10.000000  134.000000\n",
       "acousticness  0.416675  0.374408  0.043567   0.951670    0.452217\n",
       "danceability  0.675894  0.528643  0.745566   0.658179    0.513238\n",
       "energy        0.634476  0.817461  0.701470   0.924525    0.560410\n",
       "...                ...       ...       ...        ...         ...\n",
       "Turkish       0.000000  0.000000  0.000000   0.000000    0.000000\n",
       "Tango         0.000000  0.000000  0.000000   0.000000    0.000000\n",
       "Fado          0.000000  0.000000  0.000000   0.000000    0.000000\n",
       "Christmas     0.000000  0.000000  0.000000   0.000000    0.000000\n",
       "Instrumental  0.000000  0.000000  0.000000   0.000000    0.000000\n",
       "\n",
       "[930 rows x 5 columns]"
      ]
     },
     "execution_count": 6,
     "metadata": {},
     "output_type": "execute_result"
    }
   ],
   "source": [
    "final.head(5).T"
   ]
  },
  {
   "cell_type": "code",
   "execution_count": 8,
   "metadata": {},
   "outputs": [],
   "source": [
    "final = shuffle(final)"
   ]
  },
  {
   "cell_type": "code",
   "execution_count": 9,
   "metadata": {},
   "outputs": [],
   "source": [
    "X = final.loc[[i for i in range(0, 6000)]]\n",
    "Y = final.loc[[i for i in range(6000, final.shape[0])]]"
   ]
  },
  {
   "cell_type": "code",
   "execution_count": 10,
   "metadata": {},
   "outputs": [],
   "source": [
    "X = shuffle(X)\n",
    "Y = shuffle(Y)"
   ]
  },
  {
   "cell_type": "code",
   "execution_count": 14,
   "metadata": {
    "scrolled": true
   },
   "outputs": [
    {
     "data": {
      "text/html": [
       "<div>\n",
       "<style scoped>\n",
       "    .dataframe tbody tr th:only-of-type {\n",
       "        vertical-align: middle;\n",
       "    }\n",
       "\n",
       "    .dataframe tbody tr th {\n",
       "        vertical-align: top;\n",
       "    }\n",
       "\n",
       "    .dataframe thead th {\n",
       "        text-align: right;\n",
       "    }\n",
       "</style>\n",
       "<table border=\"1\" class=\"dataframe\">\n",
       "  <thead>\n",
       "    <tr style=\"text-align: right;\">\n",
       "      <th></th>\n",
       "      <th>album_title</th>\n",
       "      <th>artist_name</th>\n",
       "      <th>genre</th>\n",
       "      <th>track_title</th>\n",
       "    </tr>\n",
       "    <tr>\n",
       "      <th>track_id</th>\n",
       "      <th></th>\n",
       "      <th></th>\n",
       "      <th></th>\n",
       "      <th></th>\n",
       "    </tr>\n",
       "  </thead>\n",
       "  <tbody>\n",
       "    <tr>\n",
       "      <th>2</th>\n",
       "      <td>AWOL - A Way Of Life</td>\n",
       "      <td>AWOL</td>\n",
       "      <td>HipHop</td>\n",
       "      <td>Food</td>\n",
       "    </tr>\n",
       "    <tr>\n",
       "      <th>3</th>\n",
       "      <td>AWOL - A Way Of Life</td>\n",
       "      <td>AWOL</td>\n",
       "      <td>HipHop</td>\n",
       "      <td>Electric Ave</td>\n",
       "    </tr>\n",
       "    <tr>\n",
       "      <th>5</th>\n",
       "      <td>AWOL - A Way Of Life</td>\n",
       "      <td>AWOL</td>\n",
       "      <td>HipHop</td>\n",
       "      <td>This World</td>\n",
       "    </tr>\n",
       "    <tr>\n",
       "      <th>10</th>\n",
       "      <td>Constant Hitmaker</td>\n",
       "      <td>Kurt Vile</td>\n",
       "      <td>Pop</td>\n",
       "      <td>Freeway</td>\n",
       "    </tr>\n",
       "    <tr>\n",
       "      <th>134</th>\n",
       "      <td>AWOL - A Way Of Life</td>\n",
       "      <td>AWOL</td>\n",
       "      <td>HipHop</td>\n",
       "      <td>Street Music</td>\n",
       "    </tr>\n",
       "    <tr>\n",
       "      <th>...</th>\n",
       "      <td>...</td>\n",
       "      <td>...</td>\n",
       "      <td>...</td>\n",
       "      <td>...</td>\n",
       "    </tr>\n",
       "    <tr>\n",
       "      <th>124857</th>\n",
       "      <td>Do You Know The Word</td>\n",
       "      <td>BASIC</td>\n",
       "      <td>AvantGarde|International|</td>\n",
       "      <td>I'm Wearing My Dancing Pants</td>\n",
       "    </tr>\n",
       "    <tr>\n",
       "      <th>124862</th>\n",
       "      <td>Do You Know The Word</td>\n",
       "      <td>BASIC</td>\n",
       "      <td>AvantGarde|International|</td>\n",
       "      <td>Me Funky You Jane</td>\n",
       "    </tr>\n",
       "    <tr>\n",
       "      <th>124863</th>\n",
       "      <td>Do You Know The Word</td>\n",
       "      <td>BASIC</td>\n",
       "      <td>AvantGarde|International|</td>\n",
       "      <td>Ain't Mad at Ya</td>\n",
       "    </tr>\n",
       "    <tr>\n",
       "      <th>124864</th>\n",
       "      <td>Do You Know The Word</td>\n",
       "      <td>BASIC</td>\n",
       "      <td>AvantGarde|International|</td>\n",
       "      <td>This Is Not the End</td>\n",
       "    </tr>\n",
       "    <tr>\n",
       "      <th>124911</th>\n",
       "      <td>Suicide Beauty Girl</td>\n",
       "      <td>Yusuke Tsutsumi</td>\n",
       "      <td>AvantGarde|International|</td>\n",
       "      <td>Heaven</td>\n",
       "    </tr>\n",
       "  </tbody>\n",
       "</table>\n",
       "<p>13129 rows × 4 columns</p>\n",
       "</div>"
      ],
      "text/plain": [
       "                   album_title      artist_name                      genre  \\\n",
       "track_id                                                                     \n",
       "2         AWOL - A Way Of Life             AWOL                     HipHop   \n",
       "3         AWOL - A Way Of Life             AWOL                     HipHop   \n",
       "5         AWOL - A Way Of Life             AWOL                     HipHop   \n",
       "10           Constant Hitmaker        Kurt Vile                        Pop   \n",
       "134       AWOL - A Way Of Life             AWOL                     HipHop   \n",
       "...                        ...              ...                        ...   \n",
       "124857    Do You Know The Word            BASIC  AvantGarde|International|   \n",
       "124862    Do You Know The Word            BASIC  AvantGarde|International|   \n",
       "124863    Do You Know The Word            BASIC  AvantGarde|International|   \n",
       "124864    Do You Know The Word            BASIC  AvantGarde|International|   \n",
       "124911     Suicide Beauty Girl  Yusuke Tsutsumi  AvantGarde|International|   \n",
       "\n",
       "                           track_title  \n",
       "track_id                                \n",
       "2                                 Food  \n",
       "3                         Electric Ave  \n",
       "5                           This World  \n",
       "10                             Freeway  \n",
       "134                       Street Music  \n",
       "...                                ...  \n",
       "124857    I'm Wearing My Dancing Pants  \n",
       "124862               Me Funky You Jane  \n",
       "124863                 Ain't Mad at Ya  \n",
       "124864             This Is Not the End  \n",
       "124911                          Heaven  \n",
       "\n",
       "[13129 rows x 4 columns]"
      ]
     },
     "execution_count": 14,
     "metadata": {},
     "output_type": "execute_result"
    }
   ],
   "source": [
    "metadata"
   ]
  },
  {
   "cell_type": "code",
   "execution_count": 13,
   "metadata": {},
   "outputs": [],
   "source": [
    "metadata = metadata.set_index('track_id')"
   ]
  },
  {
   "cell_type": "code",
   "execution_count": 16,
   "metadata": {},
   "outputs": [],
   "source": [
    "# X.drop(['label'], axis= 1, inplace= True)"
   ]
  },
  {
   "cell_type": "code",
   "execution_count": 17,
   "metadata": {
    "scrolled": false
   },
   "outputs": [],
   "source": [
    "kmeans = KMeans(n_clusters=6)"
   ]
  },
  {
   "cell_type": "code",
   "execution_count": 18,
   "metadata": {},
   "outputs": [
    {
     "data": {
      "text/html": [
       "<div>\n",
       "<style scoped>\n",
       "    .dataframe tbody tr th:only-of-type {\n",
       "        vertical-align: middle;\n",
       "    }\n",
       "\n",
       "    .dataframe tbody tr th {\n",
       "        vertical-align: top;\n",
       "    }\n",
       "\n",
       "    .dataframe thead th {\n",
       "        text-align: right;\n",
       "    }\n",
       "</style>\n",
       "<table border=\"1\" class=\"dataframe\">\n",
       "  <thead>\n",
       "    <tr style=\"text-align: right;\">\n",
       "      <th></th>\n",
       "      <th>Unnamed: 0</th>\n",
       "      <th>track_id</th>\n",
       "      <th>acousticness</th>\n",
       "      <th>danceability</th>\n",
       "      <th>energy</th>\n",
       "      <th>instrumentalness</th>\n",
       "      <th>liveness</th>\n",
       "      <th>speechiness</th>\n",
       "      <th>tempo</th>\n",
       "      <th>valence</th>\n",
       "      <th>...</th>\n",
       "      <th>Holiday</th>\n",
       "      <th>Salsa</th>\n",
       "      <th>NuJazz</th>\n",
       "      <th>HipHop Beats</th>\n",
       "      <th>Modern Jazz</th>\n",
       "      <th>Turkish</th>\n",
       "      <th>Tango</th>\n",
       "      <th>Fado</th>\n",
       "      <th>Christmas</th>\n",
       "      <th>Instrumental</th>\n",
       "    </tr>\n",
       "  </thead>\n",
       "  <tbody>\n",
       "    <tr>\n",
       "      <th>6894</th>\n",
       "      <td>6894</td>\n",
       "      <td>29769</td>\n",
       "      <td>0.242325</td>\n",
       "      <td>0.432492</td>\n",
       "      <td>0.322405</td>\n",
       "      <td>0.829397</td>\n",
       "      <td>0.390208</td>\n",
       "      <td>0.230364</td>\n",
       "      <td>90.432</td>\n",
       "      <td>0.268099</td>\n",
       "      <td>...</td>\n",
       "      <td>0.0</td>\n",
       "      <td>0.0</td>\n",
       "      <td>0.0</td>\n",
       "      <td>0.0</td>\n",
       "      <td>0.0</td>\n",
       "      <td>0.0</td>\n",
       "      <td>0.0</td>\n",
       "      <td>0.0</td>\n",
       "      <td>0.0</td>\n",
       "      <td>0.0</td>\n",
       "    </tr>\n",
       "    <tr>\n",
       "      <th>8070</th>\n",
       "      <td>8070</td>\n",
       "      <td>34708</td>\n",
       "      <td>0.966225</td>\n",
       "      <td>0.461720</td>\n",
       "      <td>0.531951</td>\n",
       "      <td>0.002665</td>\n",
       "      <td>0.113224</td>\n",
       "      <td>0.587401</td>\n",
       "      <td>89.151</td>\n",
       "      <td>0.579160</td>\n",
       "      <td>...</td>\n",
       "      <td>0.0</td>\n",
       "      <td>0.0</td>\n",
       "      <td>0.0</td>\n",
       "      <td>0.0</td>\n",
       "      <td>0.0</td>\n",
       "      <td>0.0</td>\n",
       "      <td>0.0</td>\n",
       "      <td>0.0</td>\n",
       "      <td>0.0</td>\n",
       "      <td>0.0</td>\n",
       "    </tr>\n",
       "    <tr>\n",
       "      <th>12725</th>\n",
       "      <td>12725</td>\n",
       "      <td>112560</td>\n",
       "      <td>0.988970</td>\n",
       "      <td>0.461875</td>\n",
       "      <td>0.041411</td>\n",
       "      <td>0.901645</td>\n",
       "      <td>0.107383</td>\n",
       "      <td>0.056882</td>\n",
       "      <td>53.264</td>\n",
       "      <td>0.189274</td>\n",
       "      <td>...</td>\n",
       "      <td>0.0</td>\n",
       "      <td>0.0</td>\n",
       "      <td>0.0</td>\n",
       "      <td>0.0</td>\n",
       "      <td>0.0</td>\n",
       "      <td>0.0</td>\n",
       "      <td>0.0</td>\n",
       "      <td>0.0</td>\n",
       "      <td>0.0</td>\n",
       "      <td>0.0</td>\n",
       "    </tr>\n",
       "    <tr>\n",
       "      <th>10935</th>\n",
       "      <td>10935</td>\n",
       "      <td>51765</td>\n",
       "      <td>0.078156</td>\n",
       "      <td>0.252227</td>\n",
       "      <td>0.808472</td>\n",
       "      <td>0.822721</td>\n",
       "      <td>0.336813</td>\n",
       "      <td>0.063776</td>\n",
       "      <td>168.559</td>\n",
       "      <td>0.856630</td>\n",
       "      <td>...</td>\n",
       "      <td>0.0</td>\n",
       "      <td>0.0</td>\n",
       "      <td>0.0</td>\n",
       "      <td>0.0</td>\n",
       "      <td>0.0</td>\n",
       "      <td>0.0</td>\n",
       "      <td>0.0</td>\n",
       "      <td>0.0</td>\n",
       "      <td>0.0</td>\n",
       "      <td>0.0</td>\n",
       "    </tr>\n",
       "    <tr>\n",
       "      <th>10962</th>\n",
       "      <td>10962</td>\n",
       "      <td>52229</td>\n",
       "      <td>0.001668</td>\n",
       "      <td>0.201674</td>\n",
       "      <td>0.570412</td>\n",
       "      <td>0.915632</td>\n",
       "      <td>0.105019</td>\n",
       "      <td>0.039046</td>\n",
       "      <td>82.939</td>\n",
       "      <td>0.182293</td>\n",
       "      <td>...</td>\n",
       "      <td>0.0</td>\n",
       "      <td>0.0</td>\n",
       "      <td>0.0</td>\n",
       "      <td>0.0</td>\n",
       "      <td>0.0</td>\n",
       "      <td>0.0</td>\n",
       "      <td>0.0</td>\n",
       "      <td>0.0</td>\n",
       "      <td>0.0</td>\n",
       "      <td>0.0</td>\n",
       "    </tr>\n",
       "  </tbody>\n",
       "</table>\n",
       "<p>5 rows × 930 columns</p>\n",
       "</div>"
      ],
      "text/plain": [
       "       Unnamed: 0  track_id  acousticness  danceability    energy  \\\n",
       "6894         6894     29769      0.242325      0.432492  0.322405   \n",
       "8070         8070     34708      0.966225      0.461720  0.531951   \n",
       "12725       12725    112560      0.988970      0.461875  0.041411   \n",
       "10935       10935     51765      0.078156      0.252227  0.808472   \n",
       "10962       10962     52229      0.001668      0.201674  0.570412   \n",
       "\n",
       "       instrumentalness  liveness  speechiness    tempo   valence  ...  \\\n",
       "6894           0.829397  0.390208     0.230364   90.432  0.268099  ...   \n",
       "8070           0.002665  0.113224     0.587401   89.151  0.579160  ...   \n",
       "12725          0.901645  0.107383     0.056882   53.264  0.189274  ...   \n",
       "10935          0.822721  0.336813     0.063776  168.559  0.856630  ...   \n",
       "10962          0.915632  0.105019     0.039046   82.939  0.182293  ...   \n",
       "\n",
       "       Holiday  Salsa  NuJazz  HipHop Beats  Modern Jazz  Turkish  Tango  \\\n",
       "6894       0.0    0.0     0.0           0.0          0.0      0.0    0.0   \n",
       "8070       0.0    0.0     0.0           0.0          0.0      0.0    0.0   \n",
       "12725      0.0    0.0     0.0           0.0          0.0      0.0    0.0   \n",
       "10935      0.0    0.0     0.0           0.0          0.0      0.0    0.0   \n",
       "10962      0.0    0.0     0.0           0.0          0.0      0.0    0.0   \n",
       "\n",
       "       Fado  Christmas  Instrumental  \n",
       "6894    0.0        0.0           0.0  \n",
       "8070    0.0        0.0           0.0  \n",
       "12725   0.0        0.0           0.0  \n",
       "10935   0.0        0.0           0.0  \n",
       "10962   0.0        0.0           0.0  \n",
       "\n",
       "[5 rows x 930 columns]"
      ]
     },
     "execution_count": 18,
     "metadata": {},
     "output_type": "execute_result"
    }
   ],
   "source": [
    "Y.head()"
   ]
  },
  {
   "cell_type": "code",
   "execution_count": 19,
   "metadata": {},
   "outputs": [],
   "source": [
    "def fit(df, algo, flag=0):\n",
    "    if flag:\n",
    "        algo.fit(df)\n",
    "    else:\n",
    "         algo.partial_fit(df)          \n",
    "    df['label'] = algo.labels_\n",
    "    return (df, algo)"
   ]
  },
  {
   "cell_type": "code",
   "execution_count": 20,
   "metadata": {},
   "outputs": [],
   "source": [
    "def predict(t, Y):\n",
    "    y_pred = t[1].predict(Y)\n",
    "    mode = pd.Series(y_pred).mode()\n",
    "    return t[0][t[0]['label'] == mode.loc[0]]"
   ]
  },
  {
   "cell_type": "code",
   "execution_count": 21,
   "metadata": {},
   "outputs": [],
   "source": [
    "def recommend(recommendations, meta, Y):\n",
    "    dat = []\n",
    "    for i in Y['track_id']:\n",
    "        dat.append(i)\n",
    "    genre_mode = meta.loc[dat]['genre'].mode()\n",
    "    artist_mode = meta.loc[dat]['artist_name'].mode()\n",
    "    return meta[meta['genre'] == genre_mode.iloc[0]], meta[meta['artist_name'] == artist_mode.iloc[0]], meta.loc[recommendations['track_id']]"
   ]
  },
  {
   "cell_type": "code",
   "execution_count": 22,
   "metadata": {},
   "outputs": [],
   "source": [
    "t = fit(X, kmeans, 1)"
   ]
  },
  {
   "cell_type": "code",
   "execution_count": 23,
   "metadata": {},
   "outputs": [],
   "source": [
    "recommendations = predict(t, Y)"
   ]
  },
  {
   "cell_type": "code",
   "execution_count": 24,
   "metadata": {},
   "outputs": [],
   "source": [
    "output = recommend(recommendations, metadata, Y)"
   ]
  },
  {
   "cell_type": "code",
   "execution_count": 25,
   "metadata": {},
   "outputs": [],
   "source": [
    "genre_recommend, artist_name_recommend, mixed_recommend = output[0], output[1], output[2]"
   ]
  },
  {
   "cell_type": "code",
   "execution_count": 26,
   "metadata": {},
   "outputs": [
    {
     "data": {
      "text/plain": [
       "(3892, 4)"
      ]
     },
     "execution_count": 26,
     "metadata": {},
     "output_type": "execute_result"
    }
   ],
   "source": [
    "genre_recommend.shape"
   ]
  },
  {
   "cell_type": "code",
   "execution_count": 27,
   "metadata": {},
   "outputs": [
    {
     "data": {
      "text/plain": [
       "(52, 4)"
      ]
     },
     "execution_count": 27,
     "metadata": {},
     "output_type": "execute_result"
    }
   ],
   "source": [
    "artist_name_recommend.shape"
   ]
  },
  {
   "cell_type": "code",
   "execution_count": 28,
   "metadata": {},
   "outputs": [
    {
     "data": {
      "text/plain": [
       "(1150, 4)"
      ]
     },
     "execution_count": 28,
     "metadata": {},
     "output_type": "execute_result"
    }
   ],
   "source": [
    "mixed_recommend.shape"
   ]
  },
  {
   "cell_type": "code",
   "execution_count": 29,
   "metadata": {},
   "outputs": [
    {
     "data": {
      "text/html": [
       "<div>\n",
       "<style scoped>\n",
       "    .dataframe tbody tr th:only-of-type {\n",
       "        vertical-align: middle;\n",
       "    }\n",
       "\n",
       "    .dataframe tbody tr th {\n",
       "        vertical-align: top;\n",
       "    }\n",
       "\n",
       "    .dataframe thead th {\n",
       "        text-align: right;\n",
       "    }\n",
       "</style>\n",
       "<table border=\"1\" class=\"dataframe\">\n",
       "  <thead>\n",
       "    <tr style=\"text-align: right;\">\n",
       "      <th></th>\n",
       "      <th>album_title</th>\n",
       "      <th>artist_name</th>\n",
       "      <th>genre</th>\n",
       "      <th>track_title</th>\n",
       "    </tr>\n",
       "    <tr>\n",
       "      <th>track_id</th>\n",
       "      <th></th>\n",
       "      <th></th>\n",
       "      <th></th>\n",
       "      <th></th>\n",
       "    </tr>\n",
       "  </thead>\n",
       "  <tbody>\n",
       "    <tr>\n",
       "      <th>153</th>\n",
       "      <td>Arc and Sender</td>\n",
       "      <td>Arc and Sender</td>\n",
       "      <td>Rock</td>\n",
       "      <td>Hundred-Year Flood</td>\n",
       "    </tr>\n",
       "    <tr>\n",
       "      <th>154</th>\n",
       "      <td>Arc and Sender</td>\n",
       "      <td>Arc and Sender</td>\n",
       "      <td>Rock</td>\n",
       "      <td>Squares And Circles</td>\n",
       "    </tr>\n",
       "    <tr>\n",
       "      <th>155</th>\n",
       "      <td>unreleased demo</td>\n",
       "      <td>Arc and Sender</td>\n",
       "      <td>Rock</td>\n",
       "      <td>Maps of the Stars Homes</td>\n",
       "    </tr>\n",
       "    <tr>\n",
       "      <th>169</th>\n",
       "      <td>Boss of Goth</td>\n",
       "      <td>Argumentix</td>\n",
       "      <td>Rock</td>\n",
       "      <td>Boss of Goth</td>\n",
       "    </tr>\n",
       "    <tr>\n",
       "      <th>170</th>\n",
       "      <td>Nightmarcher</td>\n",
       "      <td>Argumentix</td>\n",
       "      <td>Rock</td>\n",
       "      <td>Industry Standard Massacre</td>\n",
       "    </tr>\n",
       "  </tbody>\n",
       "</table>\n",
       "</div>"
      ],
      "text/plain": [
       "              album_title     artist_name genre                 track_title\n",
       "track_id                                                                   \n",
       "153        Arc and Sender  Arc and Sender  Rock          Hundred-Year Flood\n",
       "154        Arc and Sender  Arc and Sender  Rock         Squares And Circles\n",
       "155       unreleased demo  Arc and Sender  Rock     Maps of the Stars Homes\n",
       "169          Boss of Goth      Argumentix  Rock                Boss of Goth\n",
       "170          Nightmarcher      Argumentix  Rock  Industry Standard Massacre"
      ]
     },
     "execution_count": 29,
     "metadata": {},
     "output_type": "execute_result"
    }
   ],
   "source": [
    "# Genre wise recommendations\n",
    "genre_recommend.head()"
   ]
  },
  {
   "cell_type": "code",
   "execution_count": 30,
   "metadata": {
    "scrolled": true
   },
   "outputs": [
    {
     "data": {
      "text/html": [
       "<div>\n",
       "<style scoped>\n",
       "    .dataframe tbody tr th:only-of-type {\n",
       "        vertical-align: middle;\n",
       "    }\n",
       "\n",
       "    .dataframe tbody tr th {\n",
       "        vertical-align: top;\n",
       "    }\n",
       "\n",
       "    .dataframe thead th {\n",
       "        text-align: right;\n",
       "    }\n",
       "</style>\n",
       "<table border=\"1\" class=\"dataframe\">\n",
       "  <thead>\n",
       "    <tr style=\"text-align: right;\">\n",
       "      <th></th>\n",
       "      <th>album_title</th>\n",
       "      <th>artist_name</th>\n",
       "      <th>genre</th>\n",
       "      <th>track_title</th>\n",
       "    </tr>\n",
       "    <tr>\n",
       "      <th>track_id</th>\n",
       "      <th></th>\n",
       "      <th></th>\n",
       "      <th></th>\n",
       "      <th></th>\n",
       "    </tr>\n",
       "  </thead>\n",
       "  <tbody>\n",
       "    <tr>\n",
       "      <th>34660</th>\n",
       "      <td>Zehu</td>\n",
       "      <td>51%</td>\n",
       "      <td>AvantGarde|International|Blues|Jazz|</td>\n",
       "      <td>Hadri Ha'Kat</td>\n",
       "    </tr>\n",
       "    <tr>\n",
       "      <th>34661</th>\n",
       "      <td>Zehu</td>\n",
       "      <td>51%</td>\n",
       "      <td>AvantGarde|International|Blues|Jazz|</td>\n",
       "      <td>Blender Tzivoni</td>\n",
       "    </tr>\n",
       "    <tr>\n",
       "      <th>34662</th>\n",
       "      <td>Zehu</td>\n",
       "      <td>51%</td>\n",
       "      <td>AvantGarde|International|Blues|Jazz|</td>\n",
       "      <td>Naniah</td>\n",
       "    </tr>\n",
       "    <tr>\n",
       "      <th>34663</th>\n",
       "      <td>Zehu</td>\n",
       "      <td>51%</td>\n",
       "      <td>AvantGarde|International|Blues|Jazz|</td>\n",
       "      <td>Yoter Miday</td>\n",
       "    </tr>\n",
       "    <tr>\n",
       "      <th>34664</th>\n",
       "      <td>Zehu</td>\n",
       "      <td>51%</td>\n",
       "      <td>AvantGarde|International|Blues|Jazz|</td>\n",
       "      <td>Yamim, Lielot</td>\n",
       "    </tr>\n",
       "  </tbody>\n",
       "</table>\n",
       "</div>"
      ],
      "text/plain": [
       "         album_title artist_name                                 genre  \\\n",
       "track_id                                                                 \n",
       "34660           Zehu         51%  AvantGarde|International|Blues|Jazz|   \n",
       "34661           Zehu         51%  AvantGarde|International|Blues|Jazz|   \n",
       "34662           Zehu         51%  AvantGarde|International|Blues|Jazz|   \n",
       "34663           Zehu         51%  AvantGarde|International|Blues|Jazz|   \n",
       "34664           Zehu         51%  AvantGarde|International|Blues|Jazz|   \n",
       "\n",
       "              track_title  \n",
       "track_id                   \n",
       "34660        Hadri Ha'Kat  \n",
       "34661     Blender Tzivoni  \n",
       "34662              Naniah  \n",
       "34663         Yoter Miday  \n",
       "34664       Yamim, Lielot  "
      ]
     },
     "execution_count": 30,
     "metadata": {},
     "output_type": "execute_result"
    }
   ],
   "source": [
    "# Artist wise recommendations\n",
    "artist_name_recommend.head()"
   ]
  },
  {
   "cell_type": "code",
   "execution_count": 31,
   "metadata": {},
   "outputs": [
    {
     "data": {
      "text/html": [
       "<div>\n",
       "<style scoped>\n",
       "    .dataframe tbody tr th:only-of-type {\n",
       "        vertical-align: middle;\n",
       "    }\n",
       "\n",
       "    .dataframe tbody tr th {\n",
       "        vertical-align: top;\n",
       "    }\n",
       "\n",
       "    .dataframe thead th {\n",
       "        text-align: right;\n",
       "    }\n",
       "</style>\n",
       "<table border=\"1\" class=\"dataframe\">\n",
       "  <thead>\n",
       "    <tr style=\"text-align: right;\">\n",
       "      <th></th>\n",
       "      <th>album_title</th>\n",
       "      <th>artist_name</th>\n",
       "      <th>genre</th>\n",
       "      <th>track_title</th>\n",
       "    </tr>\n",
       "    <tr>\n",
       "      <th>track_id</th>\n",
       "      <th></th>\n",
       "      <th></th>\n",
       "      <th></th>\n",
       "      <th></th>\n",
       "    </tr>\n",
       "  </thead>\n",
       "  <tbody>\n",
       "    <tr>\n",
       "      <th>19433</th>\n",
       "      <td>Atlas Sound Live at ATP-NY 2009 on WFMU</td>\n",
       "      <td>Atlas Sound</td>\n",
       "      <td>AvantGarde|International|</td>\n",
       "      <td>Don Fogelberg / Dave Matthews rap</td>\n",
       "    </tr>\n",
       "    <tr>\n",
       "      <th>14342</th>\n",
       "      <td>netBloc Vol. 22: Life on Ceres</td>\n",
       "      <td>Kiddo</td>\n",
       "      <td>Electronic</td>\n",
       "      <td>For The First Time</td>\n",
       "    </tr>\n",
       "    <tr>\n",
       "      <th>23278</th>\n",
       "      <td>The Yaouhl! Mashups</td>\n",
       "      <td>Gillicuddy</td>\n",
       "      <td>AvantGarde|International|</td>\n",
       "      <td>I know, I know</td>\n",
       "    </tr>\n",
       "    <tr>\n",
       "      <th>13217</th>\n",
       "      <td>netBloc Vol. 09: Lo-Fi Adventures on Planet Rh...</td>\n",
       "      <td>The Unfinished Sympathy</td>\n",
       "      <td>Rock</td>\n",
       "      <td>Teenage Kicks</td>\n",
       "    </tr>\n",
       "    <tr>\n",
       "      <th>17021</th>\n",
       "      <td>Split with Jake Vida</td>\n",
       "      <td>Tusk Lord</td>\n",
       "      <td>AvantGarde|International|</td>\n",
       "      <td>Tidal Bore</td>\n",
       "    </tr>\n",
       "  </tbody>\n",
       "</table>\n",
       "</div>"
      ],
      "text/plain": [
       "                                                album_title  \\\n",
       "track_id                                                      \n",
       "19433               Atlas Sound Live at ATP-NY 2009 on WFMU   \n",
       "14342                        netBloc Vol. 22: Life on Ceres   \n",
       "23278                                   The Yaouhl! Mashups   \n",
       "13217     netBloc Vol. 09: Lo-Fi Adventures on Planet Rh...   \n",
       "17021                                  Split with Jake Vida   \n",
       "\n",
       "                      artist_name                      genre  \\\n",
       "track_id                                                       \n",
       "19433                 Atlas Sound  AvantGarde|International|   \n",
       "14342                       Kiddo                 Electronic   \n",
       "23278                  Gillicuddy  AvantGarde|International|   \n",
       "13217     The Unfinished Sympathy                       Rock   \n",
       "17021                   Tusk Lord  AvantGarde|International|   \n",
       "\n",
       "                                track_title  \n",
       "track_id                                     \n",
       "19433     Don Fogelberg / Dave Matthews rap  \n",
       "14342                    For The First Time  \n",
       "23278                        I know, I know  \n",
       "13217                         Teenage Kicks  \n",
       "17021                            Tidal Bore  "
      ]
     },
     "execution_count": 31,
     "metadata": {},
     "output_type": "execute_result"
    }
   ],
   "source": [
    "# Mixed Recommendations\n",
    "mixed_recommend.head()"
   ]
  },
  {
   "cell_type": "code",
   "execution_count": 32,
   "metadata": {},
   "outputs": [
    {
     "data": {
      "text/html": [
       "<div>\n",
       "<style scoped>\n",
       "    .dataframe tbody tr th:only-of-type {\n",
       "        vertical-align: middle;\n",
       "    }\n",
       "\n",
       "    .dataframe tbody tr th {\n",
       "        vertical-align: top;\n",
       "    }\n",
       "\n",
       "    .dataframe thead th {\n",
       "        text-align: right;\n",
       "    }\n",
       "</style>\n",
       "<table border=\"1\" class=\"dataframe\">\n",
       "  <thead>\n",
       "    <tr style=\"text-align: right;\">\n",
       "      <th></th>\n",
       "      <th>Unnamed: 0</th>\n",
       "      <th>track_id</th>\n",
       "      <th>acousticness</th>\n",
       "      <th>danceability</th>\n",
       "      <th>energy</th>\n",
       "      <th>instrumentalness</th>\n",
       "      <th>liveness</th>\n",
       "      <th>speechiness</th>\n",
       "      <th>tempo</th>\n",
       "      <th>valence</th>\n",
       "      <th>...</th>\n",
       "      <th>Salsa</th>\n",
       "      <th>NuJazz</th>\n",
       "      <th>HipHop Beats</th>\n",
       "      <th>Modern Jazz</th>\n",
       "      <th>Turkish</th>\n",
       "      <th>Tango</th>\n",
       "      <th>Fado</th>\n",
       "      <th>Christmas</th>\n",
       "      <th>Instrumental</th>\n",
       "      <th>label</th>\n",
       "    </tr>\n",
       "  </thead>\n",
       "  <tbody>\n",
       "    <tr>\n",
       "      <th>4844</th>\n",
       "      <td>4844</td>\n",
       "      <td>19433</td>\n",
       "      <td>0.796041</td>\n",
       "      <td>0.503507</td>\n",
       "      <td>0.031072</td>\n",
       "      <td>0.000000</td>\n",
       "      <td>0.124561</td>\n",
       "      <td>0.902207</td>\n",
       "      <td>58.426</td>\n",
       "      <td>0.218378</td>\n",
       "      <td>...</td>\n",
       "      <td>0.0</td>\n",
       "      <td>0.0</td>\n",
       "      <td>0.0</td>\n",
       "      <td>0.0</td>\n",
       "      <td>0.0</td>\n",
       "      <td>0.0</td>\n",
       "      <td>0.0</td>\n",
       "      <td>0.0</td>\n",
       "      <td>0.0</td>\n",
       "      <td>2</td>\n",
       "    </tr>\n",
       "    <tr>\n",
       "      <th>3589</th>\n",
       "      <td>3589</td>\n",
       "      <td>14342</td>\n",
       "      <td>0.212583</td>\n",
       "      <td>0.710613</td>\n",
       "      <td>0.397395</td>\n",
       "      <td>0.941276</td>\n",
       "      <td>0.155592</td>\n",
       "      <td>0.034283</td>\n",
       "      <td>106.008</td>\n",
       "      <td>0.823302</td>\n",
       "      <td>...</td>\n",
       "      <td>0.0</td>\n",
       "      <td>0.0</td>\n",
       "      <td>0.0</td>\n",
       "      <td>0.0</td>\n",
       "      <td>0.0</td>\n",
       "      <td>0.0</td>\n",
       "      <td>0.0</td>\n",
       "      <td>0.0</td>\n",
       "      <td>0.0</td>\n",
       "      <td>2</td>\n",
       "    </tr>\n",
       "    <tr>\n",
       "      <th>5752</th>\n",
       "      <td>5752</td>\n",
       "      <td>23278</td>\n",
       "      <td>0.990841</td>\n",
       "      <td>0.463714</td>\n",
       "      <td>0.329223</td>\n",
       "      <td>0.946983</td>\n",
       "      <td>0.196328</td>\n",
       "      <td>0.037285</td>\n",
       "      <td>62.536</td>\n",
       "      <td>0.151162</td>\n",
       "      <td>...</td>\n",
       "      <td>0.0</td>\n",
       "      <td>0.0</td>\n",
       "      <td>0.0</td>\n",
       "      <td>0.0</td>\n",
       "      <td>0.0</td>\n",
       "      <td>0.0</td>\n",
       "      <td>0.0</td>\n",
       "      <td>0.0</td>\n",
       "      <td>0.0</td>\n",
       "      <td>2</td>\n",
       "    </tr>\n",
       "    <tr>\n",
       "      <th>3329</th>\n",
       "      <td>3329</td>\n",
       "      <td>13217</td>\n",
       "      <td>0.091283</td>\n",
       "      <td>0.616178</td>\n",
       "      <td>0.695149</td>\n",
       "      <td>0.132674</td>\n",
       "      <td>0.089085</td>\n",
       "      <td>0.034032</td>\n",
       "      <td>135.922</td>\n",
       "      <td>0.561843</td>\n",
       "      <td>...</td>\n",
       "      <td>0.0</td>\n",
       "      <td>0.0</td>\n",
       "      <td>0.0</td>\n",
       "      <td>0.0</td>\n",
       "      <td>0.0</td>\n",
       "      <td>0.0</td>\n",
       "      <td>0.0</td>\n",
       "      <td>0.0</td>\n",
       "      <td>0.0</td>\n",
       "      <td>2</td>\n",
       "    </tr>\n",
       "    <tr>\n",
       "      <th>4321</th>\n",
       "      <td>4321</td>\n",
       "      <td>17021</td>\n",
       "      <td>0.688388</td>\n",
       "      <td>0.196310</td>\n",
       "      <td>0.465892</td>\n",
       "      <td>0.941985</td>\n",
       "      <td>0.108535</td>\n",
       "      <td>0.139271</td>\n",
       "      <td>155.059</td>\n",
       "      <td>0.030413</td>\n",
       "      <td>...</td>\n",
       "      <td>0.0</td>\n",
       "      <td>0.0</td>\n",
       "      <td>0.0</td>\n",
       "      <td>0.0</td>\n",
       "      <td>0.0</td>\n",
       "      <td>0.0</td>\n",
       "      <td>0.0</td>\n",
       "      <td>0.0</td>\n",
       "      <td>0.0</td>\n",
       "      <td>2</td>\n",
       "    </tr>\n",
       "  </tbody>\n",
       "</table>\n",
       "<p>5 rows × 931 columns</p>\n",
       "</div>"
      ],
      "text/plain": [
       "      Unnamed: 0  track_id  acousticness  danceability    energy  \\\n",
       "4844        4844     19433      0.796041      0.503507  0.031072   \n",
       "3589        3589     14342      0.212583      0.710613  0.397395   \n",
       "5752        5752     23278      0.990841      0.463714  0.329223   \n",
       "3329        3329     13217      0.091283      0.616178  0.695149   \n",
       "4321        4321     17021      0.688388      0.196310  0.465892   \n",
       "\n",
       "      instrumentalness  liveness  speechiness    tempo   valence  ...  Salsa  \\\n",
       "4844          0.000000  0.124561     0.902207   58.426  0.218378  ...    0.0   \n",
       "3589          0.941276  0.155592     0.034283  106.008  0.823302  ...    0.0   \n",
       "5752          0.946983  0.196328     0.037285   62.536  0.151162  ...    0.0   \n",
       "3329          0.132674  0.089085     0.034032  135.922  0.561843  ...    0.0   \n",
       "4321          0.941985  0.108535     0.139271  155.059  0.030413  ...    0.0   \n",
       "\n",
       "      NuJazz  HipHop Beats  Modern Jazz  Turkish  Tango  Fado  Christmas  \\\n",
       "4844     0.0           0.0          0.0      0.0    0.0   0.0        0.0   \n",
       "3589     0.0           0.0          0.0      0.0    0.0   0.0        0.0   \n",
       "5752     0.0           0.0          0.0      0.0    0.0   0.0        0.0   \n",
       "3329     0.0           0.0          0.0      0.0    0.0   0.0        0.0   \n",
       "4321     0.0           0.0          0.0      0.0    0.0   0.0        0.0   \n",
       "\n",
       "      Instrumental  label  \n",
       "4844           0.0      2  \n",
       "3589           0.0      2  \n",
       "5752           0.0      2  \n",
       "3329           0.0      2  \n",
       "4321           0.0      2  \n",
       "\n",
       "[5 rows x 931 columns]"
      ]
     },
     "execution_count": 32,
     "metadata": {},
     "output_type": "execute_result"
    }
   ],
   "source": [
    "recommendations.head()"
   ]
  },
  {
   "cell_type": "code",
   "execution_count": 26,
   "metadata": {},
   "outputs": [
    {
     "data": {
      "text/plain": [
       "51%    52\n",
       "Name: artist_name, dtype: int64"
      ]
     },
     "execution_count": 26,
     "metadata": {},
     "output_type": "execute_result"
    }
   ],
   "source": [
    "artist_name_recommend['artist_name'].value_counts()"
   ]
  },
  {
   "cell_type": "code",
   "execution_count": 27,
   "metadata": {},
   "outputs": [
    {
     "data": {
      "text/plain": [
       "Rock    3892\n",
       "Name: genre, dtype: int64"
      ]
     },
     "execution_count": 27,
     "metadata": {},
     "output_type": "execute_result"
    }
   ],
   "source": [
    "genre_recommend['genre'].value_counts()"
   ]
  },
  {
   "cell_type": "code",
   "execution_count": 28,
   "metadata": {},
   "outputs": [
    {
     "data": {
      "text/plain": [
       "Glove Compartment               65\n",
       "Blah Blah Blah                  62\n",
       "Mors Ontologica                 50\n",
       "Les Baudouins Morts             38\n",
       "Kraus                           35\n",
       "                                ..\n",
       "Alone in 1982                    1\n",
       "Ostrich Tuning                   1\n",
       "The Dalai Lama Rama Fa Fa Fa     1\n",
       "The Rusty Bells                  1\n",
       "Lost Boy                         1\n",
       "Name: artist_name, Length: 725, dtype: int64"
      ]
     },
     "execution_count": 28,
     "metadata": {},
     "output_type": "execute_result"
    }
   ],
   "source": [
    "genre_recommend['artist_name'].value_counts()"
   ]
  },
  {
   "cell_type": "markdown",
   "metadata": {},
   "source": [
    "#### Testing"
   ]
  },
  {
   "cell_type": "code",
   "execution_count": 29,
   "metadata": {},
   "outputs": [],
   "source": [
    "testing = Y.iloc[6:12]['track_id']"
   ]
  },
  {
   "cell_type": "code",
   "execution_count": 30,
   "metadata": {},
   "outputs": [
    {
     "data": {
      "text/plain": [
       "7589     32889\n",
       "6816     29020\n",
       "7214     31383\n",
       "9187     41079\n",
       "7638     33006\n",
       "10386    48203\n",
       "Name: track_id, dtype: int64"
      ]
     },
     "execution_count": 30,
     "metadata": {},
     "output_type": "execute_result"
    }
   ],
   "source": [
    "testing"
   ]
  },
  {
   "cell_type": "code",
   "execution_count": 31,
   "metadata": {},
   "outputs": [],
   "source": [
    "ids = testing.loc[testing.index]"
   ]
  },
  {
   "cell_type": "code",
   "execution_count": 32,
   "metadata": {},
   "outputs": [],
   "source": [
    "songs = metadata.loc[testing.loc[list(testing.index)]]"
   ]
  },
  {
   "cell_type": "code",
   "execution_count": 33,
   "metadata": {},
   "outputs": [
    {
     "data": {
      "text/html": [
       "<div>\n",
       "<style scoped>\n",
       "    .dataframe tbody tr th:only-of-type {\n",
       "        vertical-align: middle;\n",
       "    }\n",
       "\n",
       "    .dataframe tbody tr th {\n",
       "        vertical-align: top;\n",
       "    }\n",
       "\n",
       "    .dataframe thead th {\n",
       "        text-align: right;\n",
       "    }\n",
       "</style>\n",
       "<table border=\"1\" class=\"dataframe\">\n",
       "  <thead>\n",
       "    <tr style=\"text-align: right;\">\n",
       "      <th></th>\n",
       "      <th>album_title</th>\n",
       "      <th>artist_name</th>\n",
       "      <th>genre</th>\n",
       "      <th>track_title</th>\n",
       "    </tr>\n",
       "    <tr>\n",
       "      <th>track_id</th>\n",
       "      <th></th>\n",
       "      <th></th>\n",
       "      <th></th>\n",
       "      <th></th>\n",
       "    </tr>\n",
       "  </thead>\n",
       "  <tbody>\n",
       "    <tr>\n",
       "      <th>32889</th>\n",
       "      <td>Malachi</td>\n",
       "      <td>Hargreaves / Noyes / Duplant</td>\n",
       "      <td>Jazz</td>\n",
       "      <td>se lever avant le jour</td>\n",
       "    </tr>\n",
       "    <tr>\n",
       "      <th>29020</th>\n",
       "      <td>Italian Dub Community Showcase Vol. 2</td>\n",
       "      <td>Italian Dub Community</td>\n",
       "      <td>AvantGarde|International|</td>\n",
       "      <td>Fetta Ketta - \"White Lion Dub\"</td>\n",
       "    </tr>\n",
       "    <tr>\n",
       "      <th>31383</th>\n",
       "      <td>Stuck In My Soul</td>\n",
       "      <td>Friends or Whatever</td>\n",
       "      <td>AvantGarde|International|</td>\n",
       "      <td>Walk Through Walls (Studio Haen Remix)</td>\n",
       "    </tr>\n",
       "    <tr>\n",
       "      <th>41079</th>\n",
       "      <td>netlabelism.com - Compilation 10/10</td>\n",
       "      <td>Izmar</td>\n",
       "      <td>Electronic</td>\n",
       "      <td>Unity</td>\n",
       "    </tr>\n",
       "    <tr>\n",
       "      <th>33006</th>\n",
       "      <td>Astor Bell Anniversary 1</td>\n",
       "      <td>Socket Science</td>\n",
       "      <td>Electronic</td>\n",
       "      <td>Sidewinding (Giuseppe Remix)</td>\n",
       "    </tr>\n",
       "    <tr>\n",
       "      <th>48203</th>\n",
       "      <td>Full Blush EP</td>\n",
       "      <td>Full Blush</td>\n",
       "      <td>Electronic</td>\n",
       "      <td>Swuggers</td>\n",
       "    </tr>\n",
       "  </tbody>\n",
       "</table>\n",
       "</div>"
      ],
      "text/plain": [
       "                                    album_title                   artist_name  \\\n",
       "track_id                                                                        \n",
       "32889                                   Malachi  Hargreaves / Noyes / Duplant   \n",
       "29020     Italian Dub Community Showcase Vol. 2         Italian Dub Community   \n",
       "31383                          Stuck In My Soul           Friends or Whatever   \n",
       "41079       netlabelism.com - Compilation 10/10                         Izmar   \n",
       "33006                  Astor Bell Anniversary 1                Socket Science   \n",
       "48203                             Full Blush EP                    Full Blush   \n",
       "\n",
       "                              genre                             track_title  \n",
       "track_id                                                                     \n",
       "32889                          Jazz                  se lever avant le jour  \n",
       "29020     AvantGarde|International|          Fetta Ketta - \"White Lion Dub\"  \n",
       "31383     AvantGarde|International|  Walk Through Walls (Studio Haen Remix)  \n",
       "41079                    Electronic                                   Unity  \n",
       "33006                    Electronic            Sidewinding (Giuseppe Remix)  \n",
       "48203                    Electronic                                Swuggers  "
      ]
     },
     "execution_count": 33,
     "metadata": {},
     "output_type": "execute_result"
    }
   ],
   "source": [
    "songs"
   ]
  },
  {
   "cell_type": "code",
   "execution_count": 33,
   "metadata": {},
   "outputs": [],
   "source": [
    "re = predict(t, Y.iloc[6:12])"
   ]
  },
  {
   "cell_type": "code",
   "execution_count": 34,
   "metadata": {},
   "outputs": [],
   "source": [
    "output = recommend(re, metadata, Y.iloc[6:12])"
   ]
  },
  {
   "cell_type": "code",
   "execution_count": 35,
   "metadata": {},
   "outputs": [],
   "source": [
    "ge_re, ge_ar, ge_mix = output[0], output[1], output[2]"
   ]
  },
  {
   "cell_type": "code",
   "execution_count": 36,
   "metadata": {},
   "outputs": [
    {
     "data": {
      "text/html": [
       "<div>\n",
       "<style scoped>\n",
       "    .dataframe tbody tr th:only-of-type {\n",
       "        vertical-align: middle;\n",
       "    }\n",
       "\n",
       "    .dataframe tbody tr th {\n",
       "        vertical-align: top;\n",
       "    }\n",
       "\n",
       "    .dataframe thead th {\n",
       "        text-align: right;\n",
       "    }\n",
       "</style>\n",
       "<table border=\"1\" class=\"dataframe\">\n",
       "  <thead>\n",
       "    <tr style=\"text-align: right;\">\n",
       "      <th></th>\n",
       "      <th>album_title</th>\n",
       "      <th>artist_name</th>\n",
       "      <th>genre</th>\n",
       "      <th>track_title</th>\n",
       "    </tr>\n",
       "    <tr>\n",
       "      <th>track_id</th>\n",
       "      <th></th>\n",
       "      <th></th>\n",
       "      <th></th>\n",
       "      <th></th>\n",
       "    </tr>\n",
       "  </thead>\n",
       "  <tbody>\n",
       "    <tr>\n",
       "      <th>384</th>\n",
       "      <td>Summer Set</td>\n",
       "      <td>Blanketship</td>\n",
       "      <td>Electronic</td>\n",
       "      <td>Baja Jones</td>\n",
       "    </tr>\n",
       "    <tr>\n",
       "      <th>386</th>\n",
       "      <td>Summer Set</td>\n",
       "      <td>Blanketship</td>\n",
       "      <td>Electronic</td>\n",
       "      <td>Clapartroach</td>\n",
       "    </tr>\n",
       "    <tr>\n",
       "      <th>387</th>\n",
       "      <td>Summer Set</td>\n",
       "      <td>Blanketship</td>\n",
       "      <td>Electronic</td>\n",
       "      <td>I wish I wish</td>\n",
       "    </tr>\n",
       "    <tr>\n",
       "      <th>396</th>\n",
       "      <td>On the Back of a Dying Beast: Volume 1</td>\n",
       "      <td>Borful Tang</td>\n",
       "      <td>Electronic</td>\n",
       "      <td>Juggernaut Soliloquy</td>\n",
       "    </tr>\n",
       "    <tr>\n",
       "      <th>397</th>\n",
       "      <td>On the Back of a Dying Beast: Volume 1</td>\n",
       "      <td>Borful Tang</td>\n",
       "      <td>Electronic</td>\n",
       "      <td>The Tides Of Land</td>\n",
       "    </tr>\n",
       "  </tbody>\n",
       "</table>\n",
       "</div>"
      ],
      "text/plain": [
       "                                     album_title  artist_name       genre  \\\n",
       "track_id                                                                    \n",
       "384                                   Summer Set  Blanketship  Electronic   \n",
       "386                                   Summer Set  Blanketship  Electronic   \n",
       "387                                   Summer Set  Blanketship  Electronic   \n",
       "396       On the Back of a Dying Beast: Volume 1  Borful Tang  Electronic   \n",
       "397       On the Back of a Dying Beast: Volume 1  Borful Tang  Electronic   \n",
       "\n",
       "                   track_title  \n",
       "track_id                        \n",
       "384                 Baja Jones  \n",
       "386               Clapartroach  \n",
       "387              I wish I wish  \n",
       "396       Juggernaut Soliloquy  \n",
       "397          The Tides Of Land  "
      ]
     },
     "execution_count": 36,
     "metadata": {},
     "output_type": "execute_result"
    }
   ],
   "source": [
    "ge_re.head()"
   ]
  },
  {
   "cell_type": "code",
   "execution_count": 37,
   "metadata": {},
   "outputs": [
    {
     "data": {
      "text/html": [
       "<div>\n",
       "<style scoped>\n",
       "    .dataframe tbody tr th:only-of-type {\n",
       "        vertical-align: middle;\n",
       "    }\n",
       "\n",
       "    .dataframe tbody tr th {\n",
       "        vertical-align: top;\n",
       "    }\n",
       "\n",
       "    .dataframe thead th {\n",
       "        text-align: right;\n",
       "    }\n",
       "</style>\n",
       "<table border=\"1\" class=\"dataframe\">\n",
       "  <thead>\n",
       "    <tr style=\"text-align: right;\">\n",
       "      <th></th>\n",
       "      <th>album_title</th>\n",
       "      <th>artist_name</th>\n",
       "      <th>genre</th>\n",
       "      <th>track_title</th>\n",
       "    </tr>\n",
       "    <tr>\n",
       "      <th>track_id</th>\n",
       "      <th></th>\n",
       "      <th></th>\n",
       "      <th></th>\n",
       "      <th></th>\n",
       "    </tr>\n",
       "  </thead>\n",
       "  <tbody>\n",
       "    <tr>\n",
       "      <th>37899</th>\n",
       "      <td>Slam Funk</td>\n",
       "      <td>Broke For Free</td>\n",
       "      <td>AvantGarde|International|Blues|</td>\n",
       "      <td>Our Ego [Feat. Different Visitor]</td>\n",
       "    </tr>\n",
       "    <tr>\n",
       "      <th>37900</th>\n",
       "      <td>Slam Funk</td>\n",
       "      <td>Broke For Free</td>\n",
       "      <td>AvantGarde|International|Blues|</td>\n",
       "      <td>Simple Hop</td>\n",
       "    </tr>\n",
       "    <tr>\n",
       "      <th>37901</th>\n",
       "      <td>Slam Funk</td>\n",
       "      <td>Broke For Free</td>\n",
       "      <td>AvantGarde|International|Blues|</td>\n",
       "      <td>Covered In Oil</td>\n",
       "    </tr>\n",
       "    <tr>\n",
       "      <th>37902</th>\n",
       "      <td>Slam Funk</td>\n",
       "      <td>Broke For Free</td>\n",
       "      <td>AvantGarde|International|Blues|</td>\n",
       "      <td>Drop of Water In the Ocean</td>\n",
       "    </tr>\n",
       "    <tr>\n",
       "      <th>37903</th>\n",
       "      <td>Slam Funk</td>\n",
       "      <td>Broke For Free</td>\n",
       "      <td>AvantGarde|International|Blues|</td>\n",
       "      <td>Living In Reverse</td>\n",
       "    </tr>\n",
       "    <tr>\n",
       "      <th>37904</th>\n",
       "      <td>Slam Funk</td>\n",
       "      <td>Broke For Free</td>\n",
       "      <td>AvantGarde|International|Blues|</td>\n",
       "      <td>At The Count</td>\n",
       "    </tr>\n",
       "    <tr>\n",
       "      <th>37905</th>\n",
       "      <td>Slam Funk</td>\n",
       "      <td>Broke For Free</td>\n",
       "      <td>AvantGarde|International|Blues|</td>\n",
       "      <td>High School Snaps</td>\n",
       "    </tr>\n",
       "    <tr>\n",
       "      <th>37906</th>\n",
       "      <td>Slam Funk</td>\n",
       "      <td>Broke For Free</td>\n",
       "      <td>AvantGarde|International|Blues|</td>\n",
       "      <td>Hella</td>\n",
       "    </tr>\n",
       "    <tr>\n",
       "      <th>37907</th>\n",
       "      <td>Slam Funk</td>\n",
       "      <td>Broke For Free</td>\n",
       "      <td>AvantGarde|International|Blues|</td>\n",
       "      <td>Caught In The Beat</td>\n",
       "    </tr>\n",
       "    <tr>\n",
       "      <th>37908</th>\n",
       "      <td>Slam Funk</td>\n",
       "      <td>Broke For Free</td>\n",
       "      <td>AvantGarde|International|Blues|</td>\n",
       "      <td>The Great</td>\n",
       "    </tr>\n",
       "  </tbody>\n",
       "</table>\n",
       "</div>"
      ],
      "text/plain": [
       "         album_title     artist_name                            genre  \\\n",
       "track_id                                                                \n",
       "37899      Slam Funk  Broke For Free  AvantGarde|International|Blues|   \n",
       "37900      Slam Funk  Broke For Free  AvantGarde|International|Blues|   \n",
       "37901      Slam Funk  Broke For Free  AvantGarde|International|Blues|   \n",
       "37902      Slam Funk  Broke For Free  AvantGarde|International|Blues|   \n",
       "37903      Slam Funk  Broke For Free  AvantGarde|International|Blues|   \n",
       "37904      Slam Funk  Broke For Free  AvantGarde|International|Blues|   \n",
       "37905      Slam Funk  Broke For Free  AvantGarde|International|Blues|   \n",
       "37906      Slam Funk  Broke For Free  AvantGarde|International|Blues|   \n",
       "37907      Slam Funk  Broke For Free  AvantGarde|International|Blues|   \n",
       "37908      Slam Funk  Broke For Free  AvantGarde|International|Blues|   \n",
       "\n",
       "                                track_title  \n",
       "track_id                                     \n",
       "37899     Our Ego [Feat. Different Visitor]  \n",
       "37900                            Simple Hop  \n",
       "37901                        Covered In Oil  \n",
       "37902            Drop of Water In the Ocean  \n",
       "37903                     Living In Reverse  \n",
       "37904                          At The Count  \n",
       "37905                     High School Snaps  \n",
       "37906                                 Hella  \n",
       "37907                    Caught In The Beat  \n",
       "37908                             The Great  "
      ]
     },
     "execution_count": 37,
     "metadata": {},
     "output_type": "execute_result"
    }
   ],
   "source": [
    "ge_ar.head(10)"
   ]
  },
  {
   "cell_type": "code",
   "execution_count": 38,
   "metadata": {},
   "outputs": [
    {
     "data": {
      "text/html": [
       "<div>\n",
       "<style scoped>\n",
       "    .dataframe tbody tr th:only-of-type {\n",
       "        vertical-align: middle;\n",
       "    }\n",
       "\n",
       "    .dataframe tbody tr th {\n",
       "        vertical-align: top;\n",
       "    }\n",
       "\n",
       "    .dataframe thead th {\n",
       "        text-align: right;\n",
       "    }\n",
       "</style>\n",
       "<table border=\"1\" class=\"dataframe\">\n",
       "  <thead>\n",
       "    <tr style=\"text-align: right;\">\n",
       "      <th></th>\n",
       "      <th>album_title</th>\n",
       "      <th>artist_name</th>\n",
       "      <th>genre</th>\n",
       "      <th>track_title</th>\n",
       "    </tr>\n",
       "    <tr>\n",
       "      <th>track_id</th>\n",
       "      <th></th>\n",
       "      <th></th>\n",
       "      <th></th>\n",
       "      <th></th>\n",
       "    </tr>\n",
       "  </thead>\n",
       "  <tbody>\n",
       "    <tr>\n",
       "      <th>19433</th>\n",
       "      <td>Atlas Sound Live at ATP-NY 2009 on WFMU</td>\n",
       "      <td>Atlas Sound</td>\n",
       "      <td>AvantGarde|International|</td>\n",
       "      <td>Don Fogelberg / Dave Matthews rap</td>\n",
       "    </tr>\n",
       "    <tr>\n",
       "      <th>14342</th>\n",
       "      <td>netBloc Vol. 22: Life on Ceres</td>\n",
       "      <td>Kiddo</td>\n",
       "      <td>Electronic</td>\n",
       "      <td>For The First Time</td>\n",
       "    </tr>\n",
       "    <tr>\n",
       "      <th>23278</th>\n",
       "      <td>The Yaouhl! Mashups</td>\n",
       "      <td>Gillicuddy</td>\n",
       "      <td>AvantGarde|International|</td>\n",
       "      <td>I know, I know</td>\n",
       "    </tr>\n",
       "    <tr>\n",
       "      <th>13217</th>\n",
       "      <td>netBloc Vol. 09: Lo-Fi Adventures on Planet Rh...</td>\n",
       "      <td>The Unfinished Sympathy</td>\n",
       "      <td>Rock</td>\n",
       "      <td>Teenage Kicks</td>\n",
       "    </tr>\n",
       "    <tr>\n",
       "      <th>17021</th>\n",
       "      <td>Split with Jake Vida</td>\n",
       "      <td>Tusk Lord</td>\n",
       "      <td>AvantGarde|International|</td>\n",
       "      <td>Tidal Bore</td>\n",
       "    </tr>\n",
       "    <tr>\n",
       "      <th>9172</th>\n",
       "      <td>Live at WFMU/Aquarius SXSW show 3/20/2009</td>\n",
       "      <td>Major Stars</td>\n",
       "      <td>Rock</td>\n",
       "      <td>(title unknown)</td>\n",
       "    </tr>\n",
       "    <tr>\n",
       "      <th>23303</th>\n",
       "      <td>Accident Consultancy Live / Undead</td>\n",
       "      <td>THF Drenching</td>\n",
       "      <td>AvantGarde|International|</td>\n",
       "      <td>Fuck Keith M*ssi*h (Live)</td>\n",
       "    </tr>\n",
       "    <tr>\n",
       "      <th>14344</th>\n",
       "      <td>netBloc Vol. 22: Life on Ceres</td>\n",
       "      <td>Ambienteer</td>\n",
       "      <td>Electronic</td>\n",
       "      <td>Ecclesia</td>\n",
       "    </tr>\n",
       "    <tr>\n",
       "      <th>15863</th>\n",
       "      <td>Come Fly With Me</td>\n",
       "      <td>The Kid Daytona</td>\n",
       "      <td>HipHop</td>\n",
       "      <td>Contact! feat. Kardinal Offishall {prod. 6th S...</td>\n",
       "    </tr>\n",
       "    <tr>\n",
       "      <th>15639</th>\n",
       "      <td>Mydrone</td>\n",
       "      <td>Agents del Futuro</td>\n",
       "      <td>Electronic</td>\n",
       "      <td>Not Fucking Printz</td>\n",
       "    </tr>\n",
       "  </tbody>\n",
       "</table>\n",
       "</div>"
      ],
      "text/plain": [
       "                                                album_title  \\\n",
       "track_id                                                      \n",
       "19433               Atlas Sound Live at ATP-NY 2009 on WFMU   \n",
       "14342                        netBloc Vol. 22: Life on Ceres   \n",
       "23278                                   The Yaouhl! Mashups   \n",
       "13217     netBloc Vol. 09: Lo-Fi Adventures on Planet Rh...   \n",
       "17021                                  Split with Jake Vida   \n",
       "9172              Live at WFMU/Aquarius SXSW show 3/20/2009   \n",
       "23303                    Accident Consultancy Live / Undead   \n",
       "14344                        netBloc Vol. 22: Life on Ceres   \n",
       "15863                                      Come Fly With Me   \n",
       "15639                                               Mydrone   \n",
       "\n",
       "                      artist_name                      genre  \\\n",
       "track_id                                                       \n",
       "19433                 Atlas Sound  AvantGarde|International|   \n",
       "14342                       Kiddo                 Electronic   \n",
       "23278                  Gillicuddy  AvantGarde|International|   \n",
       "13217     The Unfinished Sympathy                       Rock   \n",
       "17021                   Tusk Lord  AvantGarde|International|   \n",
       "9172                  Major Stars                       Rock   \n",
       "23303               THF Drenching  AvantGarde|International|   \n",
       "14344                  Ambienteer                 Electronic   \n",
       "15863             The Kid Daytona                     HipHop   \n",
       "15639           Agents del Futuro                 Electronic   \n",
       "\n",
       "                                                track_title  \n",
       "track_id                                                     \n",
       "19433                     Don Fogelberg / Dave Matthews rap  \n",
       "14342                                    For The First Time  \n",
       "23278                                        I know, I know  \n",
       "13217                                         Teenage Kicks  \n",
       "17021                                            Tidal Bore  \n",
       "9172                                        (title unknown)  \n",
       "23303                             Fuck Keith M*ssi*h (Live)  \n",
       "14344                                              Ecclesia  \n",
       "15863     Contact! feat. Kardinal Offishall {prod. 6th S...  \n",
       "15639                                    Not Fucking Printz  "
      ]
     },
     "execution_count": 38,
     "metadata": {},
     "output_type": "execute_result"
    }
   ],
   "source": [
    "ge_mix.head(10)"
   ]
  },
  {
   "cell_type": "code",
   "execution_count": 39,
   "metadata": {},
   "outputs": [
    {
     "data": {
      "text/plain": [
       "(2170, 4)"
      ]
     },
     "execution_count": 39,
     "metadata": {},
     "output_type": "execute_result"
    }
   ],
   "source": [
    "ge_re.shape"
   ]
  },
  {
   "cell_type": "code",
   "execution_count": 40,
   "metadata": {},
   "outputs": [
    {
     "data": {
      "text/plain": [
       "(23, 4)"
      ]
     },
     "execution_count": 40,
     "metadata": {},
     "output_type": "execute_result"
    }
   ],
   "source": [
    "ge_ar.shape"
   ]
  },
  {
   "cell_type": "code",
   "execution_count": 41,
   "metadata": {},
   "outputs": [
    {
     "data": {
      "text/plain": [
       "(1150, 4)"
      ]
     },
     "execution_count": 41,
     "metadata": {},
     "output_type": "execute_result"
    }
   ],
   "source": [
    "ge_mix.shape"
   ]
  },
  {
   "cell_type": "markdown",
   "metadata": {},
   "source": [
    "### Model Selection - MiniBatchKMeans"
   ]
  },
  {
   "cell_type": "code",
   "execution_count": null,
   "metadata": {},
   "outputs": [],
   "source": [
    "from sklearn.cluster import MiniBatchKMeans"
   ]
  },
  {
   "cell_type": "code",
   "execution_count": null,
   "metadata": {},
   "outputs": [],
   "source": [
    "mini = MiniBatchKMeans(n_clusters = 6)"
   ]
  },
  {
   "cell_type": "code",
   "execution_count": null,
   "metadata": {},
   "outputs": [],
   "source": [
    "X.drop('label', axis=1, inplace=True)"
   ]
  },
  {
   "cell_type": "code",
   "execution_count": null,
   "metadata": {},
   "outputs": [],
   "source": [
    "# Let's divide the intital dataset into pieces to demonstrate online learning\n",
    "part_1, part_2, part_3 = X.iloc[0: 2000], X.iloc[2000:4000], X.iloc[4000:6000]"
   ]
  },
  {
   "cell_type": "code",
   "execution_count": null,
   "metadata": {},
   "outputs": [],
   "source": [
    "for i in [part_1, part_2, part_3]:\n",
    "    t = fit(i, mini)\n",
    "    mini = t[1]\n",
    "    i = t[0]"
   ]
  },
  {
   "cell_type": "code",
   "execution_count": null,
   "metadata": {},
   "outputs": [],
   "source": [
    "X = pd.concat([part_1, part_2, part_3])"
   ]
  },
  {
   "cell_type": "code",
   "execution_count": null,
   "metadata": {},
   "outputs": [],
   "source": [
    "X.columns"
   ]
  },
  {
   "cell_type": "code",
   "execution_count": null,
   "metadata": {},
   "outputs": [],
   "source": [
    "X.head(3)"
   ]
  },
  {
   "cell_type": "code",
   "execution_count": null,
   "metadata": {},
   "outputs": [],
   "source": [
    "X['label'].value_counts()"
   ]
  },
  {
   "cell_type": "code",
   "execution_count": null,
   "metadata": {
    "scrolled": true
   },
   "outputs": [],
   "source": [
    "recommendations = predict((X, mini), Y)"
   ]
  },
  {
   "cell_type": "code",
   "execution_count": null,
   "metadata": {},
   "outputs": [],
   "source": [
    "output = recommend(recommendations, metadata, Y)"
   ]
  },
  {
   "cell_type": "code",
   "execution_count": null,
   "metadata": {},
   "outputs": [],
   "source": [
    "genre_recommend_mini, artist_name_recommend_mini, mixed_mini = output[0], output[1], output[2]"
   ]
  },
  {
   "cell_type": "code",
   "execution_count": null,
   "metadata": {},
   "outputs": [],
   "source": [
    "genre_recommend_mini.shape"
   ]
  },
  {
   "cell_type": "code",
   "execution_count": null,
   "metadata": {},
   "outputs": [],
   "source": [
    "artist_name_recommend_mini.shape"
   ]
  },
  {
   "cell_type": "code",
   "execution_count": null,
   "metadata": {},
   "outputs": [],
   "source": [
    "# Genre wise recommendations\n",
    "genre_recommend_mini.head()"
   ]
  },
  {
   "cell_type": "code",
   "execution_count": null,
   "metadata": {},
   "outputs": [],
   "source": [
    "# Artist wise recommendations\n",
    "artist_name_recommend_mini.head()"
   ]
  },
  {
   "cell_type": "code",
   "execution_count": null,
   "metadata": {},
   "outputs": [],
   "source": [
    "# Mixed Recommendations\n",
    "mixed_mini.head()"
   ]
  },
  {
   "cell_type": "markdown",
   "metadata": {},
   "source": [
    "### Model Selection - Birch"
   ]
  },
  {
   "cell_type": "code",
   "execution_count": null,
   "metadata": {},
   "outputs": [],
   "source": [
    "from sklearn.cluster import Birch"
   ]
  },
  {
   "cell_type": "code",
   "execution_count": null,
   "metadata": {},
   "outputs": [],
   "source": [
    "birch = Birch(n_clusters = 6)"
   ]
  },
  {
   "cell_type": "code",
   "execution_count": null,
   "metadata": {},
   "outputs": [],
   "source": [
    "X.drop('label', axis=1, inplace=True)"
   ]
  },
  {
   "cell_type": "code",
   "execution_count": null,
   "metadata": {},
   "outputs": [],
   "source": [
    "# Let's divide the intital dataset into pieces to demonstrate online learning\n",
    "part_1, part_2, part_3 = X.iloc[0: 2000], X.iloc[2000:4000], X.iloc[4000:6000]"
   ]
  },
  {
   "cell_type": "code",
   "execution_count": null,
   "metadata": {},
   "outputs": [],
   "source": [
    "for i in [part_1, part_2, part_3]:\n",
    "    t = fit(i, birch)\n",
    "    mini = t[1]\n",
    "    i = t[0]"
   ]
  },
  {
   "cell_type": "code",
   "execution_count": null,
   "metadata": {},
   "outputs": [],
   "source": [
    "X = pd.concat([part_1, part_2, part_3])"
   ]
  },
  {
   "cell_type": "code",
   "execution_count": null,
   "metadata": {},
   "outputs": [],
   "source": [
    "X.columns"
   ]
  },
  {
   "cell_type": "code",
   "execution_count": null,
   "metadata": {},
   "outputs": [],
   "source": [
    "X.head(3)"
   ]
  },
  {
   "cell_type": "code",
   "execution_count": null,
   "metadata": {},
   "outputs": [],
   "source": [
    "X['label'].value_counts()"
   ]
  },
  {
   "cell_type": "code",
   "execution_count": null,
   "metadata": {
    "scrolled": true
   },
   "outputs": [],
   "source": [
    "recommendations = predict((X, birch), Y)"
   ]
  },
  {
   "cell_type": "code",
   "execution_count": null,
   "metadata": {},
   "outputs": [],
   "source": [
    "output = recommend(recommendations, metadata, Y)"
   ]
  },
  {
   "cell_type": "code",
   "execution_count": null,
   "metadata": {},
   "outputs": [],
   "source": [
    "genre_recommend_birch, artist_name_recommend_birch, mixed_birch = output[0], output[1], output[2]"
   ]
  },
  {
   "cell_type": "code",
   "execution_count": null,
   "metadata": {},
   "outputs": [],
   "source": [
    "genre_recommend_birch.shape"
   ]
  },
  {
   "cell_type": "code",
   "execution_count": null,
   "metadata": {},
   "outputs": [],
   "source": [
    "artist_name_recommend_birch.shape"
   ]
  },
  {
   "cell_type": "code",
   "execution_count": null,
   "metadata": {},
   "outputs": [],
   "source": [
    "# Genre wise recommendations\n",
    "genre_recommend_birch.head()"
   ]
  },
  {
   "cell_type": "code",
   "execution_count": null,
   "metadata": {},
   "outputs": [],
   "source": [
    "# Artist wise recommendations\n",
    "artist_name_recommend_birch.head()"
   ]
  },
  {
   "cell_type": "code",
   "execution_count": null,
   "metadata": {},
   "outputs": [],
   "source": [
    "# Mixed Recommendations\n",
    "mixed_birch.head()"
   ]
  }
 ],
 "metadata": {
  "kernelspec": {
   "display_name": "Python 3 (ipykernel)",
   "language": "python",
   "name": "python3"
  },
  "language_info": {
   "codemirror_mode": {
    "name": "ipython",
    "version": 3
   },
   "file_extension": ".py",
   "mimetype": "text/x-python",
   "name": "python",
   "nbconvert_exporter": "python",
   "pygments_lexer": "ipython3",
   "version": "3.7.9"
  }
 },
 "nbformat": 4,
 "nbformat_minor": 2
}
